{
 "cells": [
  {
   "cell_type": "markdown",
   "metadata": {},
   "source": [
    "<img src=\"https://static.wixstatic.com/media/f11c7c_69283cb47c30496d953e1d8d4c6b5b18~mv2.png/v1/fill/w_75,h_75,al_c,usm_0.66_1.00_0.01/Logo%20new.png\"\n",
    "     alt=\"Markdown Monster icon\"\n",
    "     style=\"float: left; margin-right: 10px;\" />\n",
    "     \n",
    "# Segmenting and clustering Toronto's neighborhoods\n",
    "\n",
    "This notebook holds my final assignment for the IBM Data Science certificate.\n",
    "\n",
    "---"
   ]
  },
  {
   "cell_type": "markdown",
   "metadata": {},
   "source": [
    "## Introduction to this notebook\n",
    "This notebook holds my code for the Peer-graded assignment for:<br>\n",
    "*Applied Data Science capstone | part of the IBM Data Science Professional Certifcate course | week 3*"
   ]
  },
  {
   "cell_type": "markdown",
   "metadata": {},
   "source": [
    "## My code"
   ]
  },
  {
   "cell_type": "markdown",
   "metadata": {},
   "source": [
    "### setup of environment"
   ]
  },
  {
   "cell_type": "code",
   "execution_count": 121,
   "metadata": {},
   "outputs": [],
   "source": [
    "# import modules\n",
    "import pandas as pd\n",
    "\n",
    "# ensure the SSL error from the read_html is fixed\n",
    "import ssl\n",
    "ssl._create_default_https_context = ssl._create_unverified_context"
   ]
  },
  {
   "cell_type": "markdown",
   "metadata": {},
   "source": [
    "### get the data from the URL into a dataframe"
   ]
  },
  {
   "cell_type": "code",
   "execution_count": 122,
   "metadata": {},
   "outputs": [
    {
     "name": "stdout",
     "output_type": "stream",
     "text": [
      "  Postal Code           Borough              Neighbourhood\n",
      "0         M1A      Not assigned               Not assigned\n",
      "1         M2A      Not assigned               Not assigned\n",
      "2         M3A        North York                  Parkwoods\n",
      "3         M4A        North York           Victoria Village\n",
      "4         M5A  Downtown Toronto  Regent Park, Harbourfront\n",
      "(180, 3)\n",
      "\n"
     ]
    }
   ],
   "source": [
    "# read the data from the provided location and use the first table on the Wiki page\n",
    "df = pd.read_html('https://en.wikipedia.org/wiki/List_of_postal_codes_of_Canada:_M')[0]\n",
    "print(df.head())\n",
    "print(df.shape)\n",
    "print()"
   ]
  },
  {
   "cell_type": "markdown",
   "metadata": {},
   "source": [
    "### pre-process check and the data"
   ]
  },
  {
   "cell_type": "code",
   "execution_count": 123,
   "metadata": {},
   "outputs": [
    {
     "name": "stdout",
     "output_type": "stream",
     "text": [
      "Number of columns equals: 3 | correct\n",
      "\n"
     ]
    }
   ],
   "source": [
    "#check nr of columns\n",
    "col = 3\n",
    "log_entry = 'Number of columns equals:'\n",
    "if len(df.columns) == col:\n",
    "    print('{} {} | correct'.format(log_entry,col))\n",
    "else:\n",
    "    print('{} {} | something is wrong, please check'.format(log_entry,col))\n",
    "print()"
   ]
  },
  {
   "cell_type": "code",
   "execution_count": 124,
   "metadata": {},
   "outputs": [
    {
     "name": "stdout",
     "output_type": "stream",
     "text": [
      "Number of Borough rows with 'Not assigned' equals: 77 | please pre-process the rows\n",
      "\n",
      "  Postal Code           Borough                                Neighbourhood\n",
      "2         M3A        North York                                    Parkwoods\n",
      "3         M4A        North York                             Victoria Village\n",
      "4         M5A  Downtown Toronto                    Regent Park, Harbourfront\n",
      "5         M6A        North York             Lawrence Manor, Lawrence Heights\n",
      "6         M7A  Downtown Toronto  Queen's Park, Ontario Provincial Government\n",
      "Shape after skipping rows: (103, 3)\n",
      "\n",
      "Number of Borough rows with 'Not assigned' equals: 0 | correct\n",
      "\n"
     ]
    }
   ],
   "source": [
    "# skip rows with Not Assigned for Borough\n",
    "row = df.loc[df.Borough == 'Not assigned', 'Borough'].count()\n",
    "log_entry = \"Number of Borough rows with 'Not assigned' equals:\"\n",
    "if row == 0:\n",
    "    print('{} {} | correct'.format(log_entry,row))\n",
    "else:\n",
    "    print('{} {} | please pre-process the rows'.format(log_entry,row))\n",
    "print()\n",
    "\n",
    "df = df[df['Borough']!='Not assigned']\n",
    "print(df.head())\n",
    "print('Shape after skipping rows: {}'.format(df.shape))\n",
    "print()\n",
    "\n",
    "# check after skipping\n",
    "row = df.loc[df.Borough == 'Not assigned', 'Borough'].count()\n",
    "log_entry = \"Number of Borough rows with 'Not assigned' equals:\"\n",
    "if row == 0:\n",
    "    print('{} {} | correct'.format(log_entry,row))\n",
    "else:\n",
    "    print('{} {} | please pre-process the rows'.format(log_entry,row))\n",
    "print()"
   ]
  },
  {
   "cell_type": "code",
   "execution_count": 125,
   "metadata": {},
   "outputs": [
    {
     "name": "stdout",
     "output_type": "stream",
     "text": [
      "   Postal Code     Borough Neighbourhood\n",
      "11         M3B  North York     Don Mills\n",
      "20         M3C  North York     Don Mills\n",
      "65         M3K  North York     Downsview\n",
      "74         M3L  North York     Downsview\n",
      "83         M3M  North York     Downsview\n",
      "92         M3N  North York     Downsview\n",
      "Duplicates on Neighbourhood found | no action needed, correct\n",
      "\n",
      "No duplicates on Postal Code found | correct\n",
      "\n",
      "    Postal Code           Borough  \\\n",
      "4           M5A  Downtown Toronto   \n",
      "5           M6A        North York   \n",
      "6           M7A  Downtown Toronto   \n",
      "8           M9A         Etobicoke   \n",
      "9           M1B       Scarborough   \n",
      "..          ...               ...   \n",
      "157         M5X  Downtown Toronto   \n",
      "160         M8X         Etobicoke   \n",
      "168         M7Y      East Toronto   \n",
      "169         M8Y         Etobicoke   \n",
      "178         M8Z         Etobicoke   \n",
      "\n",
      "                                         Neighbourhood  \n",
      "4                            Regent Park, Harbourfront  \n",
      "5                     Lawrence Manor, Lawrence Heights  \n",
      "6          Queen's Park, Ontario Provincial Government  \n",
      "8              Islington Avenue, Humber Valley Village  \n",
      "9                                       Malvern, Rouge  \n",
      "..                                                 ...  \n",
      "157             First Canadian Place, Underground city  \n",
      "160      The Kingsway, Montgomery Road, Old Mill North  \n",
      "168  Business reply mail Processing Centre, South C...  \n",
      "169  Old Mill South, King's Mill Park, Sunnylea, Hu...  \n",
      "178  Mimico NW, The Queensway West, South of Bloor,...  \n",
      "\n",
      "[64 rows x 3 columns]\n",
      "64 postal codes with multiple neighbourhoods found | no action needed, correct\n",
      "\n"
     ]
    }
   ],
   "source": [
    "# find the duplicates on neighborhood entries and return all rows\n",
    "# duplicates on neighbourhood means the neighbourhood covers more than one postal code\n",
    "# just a check, no further processing needed\n",
    "\n",
    "key = 'Neighbourhood'\n",
    "df_dups = df[df.duplicated([key], keep=False)]\n",
    "if len(df_dups) > 0:\n",
    "    print(df_dups)\n",
    "    print('Duplicates on {} found | no action needed, correct'.format(key))\n",
    "else:\n",
    "    print('No duplicates on {} found | correct'.format(key))\n",
    "print()\n",
    "\n",
    "# find the duplicates on postal code entries (ie neighbourhoods that should be combined)\n",
    "key = 'Postal Code'\n",
    "df_dups = df[df.duplicated([key], keep=False)]\n",
    "if len(df_dups) > 0:\n",
    "    print(df_dups)\n",
    "    # iterate through the duplicates Postal Codes\n",
    "    for index, row in df_dups.iterrows():\n",
    "        to_cat = df.loc[df['Postal Code'] == row['Postal Code'], 'Neighbourhood']\n",
    "        # concate their values\n",
    "        to_cat = to_cat.str.cat(sep=', ')\n",
    "        # update DataFrame\n",
    "        df.loc[df['Postal Code'] == row['Postal Code'], 'Neighbourhood'] = to_cat.str.cat(sep=', ')\n",
    "    # all duplicates are aligned to they all can be removed but the first one\n",
    "    df.drop_duplicates(subset=['Postal Code'], inplace=True)\n",
    "    print('Duplicates on {} found and fixed | correct'.format(key))\n",
    "    print(df.shape)\n",
    "else:\n",
    "    print('No duplicates on {} found | correct'.format(key))\n",
    "\n",
    "print()\n",
    "\n",
    "# find the postal codes with more than one neighbourhood (ie with a comma in the neigbourhood)\n",
    "df_dups = df[df['Neighbourhood'].str.contains(',')]\n",
    "if len(df_dups) > 0:\n",
    "    print(df_dups)\n",
    "    print('{} postal codes with multiple neighbourhoods found | no action needed, correct'.format(len(df_dups)))\n",
    "else:\n",
    "    print('No entries with ,')\n",
    "print()"
   ]
  },
  {
   "cell_type": "code",
   "execution_count": 126,
   "metadata": {},
   "outputs": [
    {
     "name": "stdout",
     "output_type": "stream",
     "text": [
      "No entries with 'Not assigned' for Neighbourhood | correct\n"
     ]
    }
   ],
   "source": [
    "# if a cell has a Borough with a 'Not assigned' neighborhood, \n",
    "# the neighborhood must become the same as the borough\n",
    "\n",
    "df_dups = df[df['Neighbourhood'] == 'Not assigned']\n",
    "if len(df_dups) > 0:\n",
    "    print(df_dups)\n",
    "    #iterate through the rows\n",
    "    for index, row in df_dups.iterrows():\n",
    "        #change the Neighbourhood value into the Borough value where applicable\n",
    "        df.loc[((df['Neighbourhood'] == 'Not assigned') & \\\n",
    "                (df['Borough'] == row['Borough'])), 'Neighbourhood'] = row['Borough']\n",
    "    print(\"{} neighbourhoods = 'Not assigned' changed to Borough name | no further action needed, correct\".format(len(df_dups)))\n",
    "else:\n",
    "    print(\"No entries with 'Not assigned' for Neighbourhood | correct\")"
   ]
  },
  {
   "cell_type": "markdown",
   "metadata": {},
   "source": [
    "### final cell for assignment"
   ]
  },
  {
   "cell_type": "code",
   "execution_count": 127,
   "metadata": {},
   "outputs": [
    {
     "data": {
      "text/plain": [
       "(103, 3)"
      ]
     },
     "execution_count": 127,
     "metadata": {},
     "output_type": "execute_result"
    }
   ],
   "source": [
    "# as a final result, print the shape of the dataframe\n",
    "df.shape"
   ]
  }
 ],
 "metadata": {
  "kernelspec": {
   "display_name": "Python 3",
   "language": "python",
   "name": "python3"
  },
  "language_info": {
   "codemirror_mode": {
    "name": "ipython",
    "version": 3
   },
   "file_extension": ".py",
   "mimetype": "text/x-python",
   "name": "python",
   "nbconvert_exporter": "python",
   "pygments_lexer": "ipython3",
   "version": "3.8.1"
  },
  "toc": {
   "base_numbering": 1,
   "nav_menu": {},
   "number_sections": false,
   "sideBar": true,
   "skip_h1_title": false,
   "title_cell": "Table of Contents",
   "title_sidebar": "Contents",
   "toc_cell": false,
   "toc_position": {
    "height": "calc(100% - 180px)",
    "left": "10px",
    "top": "150px",
    "width": "223px"
   },
   "toc_section_display": true,
   "toc_window_display": true
  }
 },
 "nbformat": 4,
 "nbformat_minor": 4
}
