{
 "cells": [
  {
   "cell_type": "markdown",
   "metadata": {},
   "source": [
    "![alt text](https://static.wixstatic.com/media/f11c7c_69283cb47c30496d953e1d8d4c6b5b18~mv2.png/v1/fill/w_75,h_75,al_c,usm_0.66_1.00_0.01/Logo%20new.png)\n",
    "\n",
    "\n",
    "# IBM Data Science capstone project\n",
    "## The battle of the neighborhoods\n",
    "\n",
    "This notebook holds my final assignment for the IBM Data Science certificate.\n",
    "\n",
    "---"
   ]
  },
  {
   "cell_type": "code",
   "execution_count": null,
   "metadata": {},
   "outputs": [],
   "source": []
  },
  {
   "cell_type": "markdown",
   "metadata": {},
   "source": [
    "## Author\n",
    "<a href=\"https://www.linkedin.com/in/mjellema/\" target=\"_blank\">Marc Jellema</a>\n",
    "\n"
   ]
  }
 ],
 "metadata": {
  "kernelspec": {
   "display_name": "Python 3",
   "language": "python",
   "name": "python3"
  },
  "language_info": {
   "codemirror_mode": {
    "name": "ipython",
    "version": 3
   },
   "file_extension": ".py",
   "mimetype": "text/x-python",
   "name": "python",
   "nbconvert_exporter": "python",
   "pygments_lexer": "ipython3",
   "version": "3.8.1"
  }
 },
 "nbformat": 4,
 "nbformat_minor": 2
}
