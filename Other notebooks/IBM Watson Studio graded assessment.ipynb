{
 "cells": [
  {
   "cell_type": "markdown",
   "metadata": {
    "collapsed": true
   },
   "source": [
    "# My Jupyter Notebook on IBM Watson Studio"
   ]
  },
  {
   "cell_type": "markdown",
   "metadata": {},
   "source": [
    "**Marc Jellema**\n",
    "\n",
    "Senior Data Scientist - for a consumer brand"
   ]
  },
  {
   "cell_type": "markdown",
   "metadata": {},
   "source": [
    "*I am interested in data science because it helps make decisions based on facts (=data) instead of gut feeling (expert opinion). I think we have only scratched the surface of what we can do with data insights and data scientists will discover new frontiers first handed.*"
   ]
  },
  {
   "cell_type": "markdown",
   "metadata": {},
   "source": [
    "### The code in the next cell of this notebook performs the most straighforward sum of all: it calculates 1 + 1 "
   ]
  },
  {
   "cell_type": "code",
   "execution_count": 7,
   "metadata": {},
   "outputs": [
    {
     "data": {
      "text/plain": [
       "2"
      ]
     },
     "execution_count": 7,
     "metadata": {},
     "output_type": "execute_result"
    }
   ],
   "source": [
    "1 + 1"
   ]
  },
  {
   "cell_type": "markdown",
   "metadata": {},
   "source": [
    "---\n",
    "&#8593; horizontal ruler\n",
    "\n",
    "- one\n",
    "- two\n",
    "- three\n",
    "\n",
    "&#8593; bullet list\n",
    "\n",
    "\n",
    "Markdown | Less | Pretty\n",
    ":--- | :--- | :---\n",
    "1 | 2 | 3\n",
    "*Still* | `renders` | **nicely**\n",
    "\n",
    "&#8593; table and inline syntax highlighting\n",
    "\n",
    "```python\n",
    "s = \"Python syntax highlighting\"\n",
    "print s\n",
    "```\n",
    "\n",
    "&#8593; syntax highlighting\n",
    "\n",
    "[www.google.com](https://www.google.com)\n",
    "\n",
    "&#8593; hyperlink highlighting\n",
    "\n",
    "Inline-style: \n",
    "![alt text](https://static.wixstatic.com/media/f11c7c_69283cb47c30496d953e1d8d4c6b5b18~mv2.png/v1/fill/w_74,h_72,al_c,usm_0.66_1.00_0.01/Logo%20new.png)\n",
    "\n",
    "&#8593; Image\n",
    "\n",
    ">I think I have covered ~~at least~~ 3 😜\n",
    "\n",
    "&#8593; Block quote & strike through"
   ]
  }
 ],
 "metadata": {
  "kernelspec": {
   "display_name": "Python 3.7",
   "language": "python",
   "name": "python3"
  },
  "language_info": {
   "codemirror_mode": {
    "name": "ipython",
    "version": 3
   },
   "file_extension": ".py",
   "mimetype": "text/x-python",
   "name": "python",
   "nbconvert_exporter": "python",
   "pygments_lexer": "ipython3",
   "version": "3.7.9"
  }
 },
 "nbformat": 4,
 "nbformat_minor": 1
}
